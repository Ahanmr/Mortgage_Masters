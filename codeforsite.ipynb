{
 "cells": [
  {
   "cell_type": "code",
   "execution_count": null,
   "metadata": {},
   "outputs": [],
   "source": [
    "from keras.models import load_model\n",
    "import numpy as np\n",
    "import pandas as pd\n",
    "from sklearn.preprocessing import LabelEncoder, StandardScaler\n",
    "from keras.utils import to_categorical"
   ]
  },
  {
   "cell_type": "code",
   "execution_count": null,
   "metadata": {},
   "outputs": [],
   "source": [
    "# load the trained ML model\n",
    "model = load_model(\"mortgage_model_trained.h5\")"
   ]
  },
  {
   "cell_type": "code",
   "execution_count": null,
   "metadata": {},
   "outputs": [],
   "source": [
    "# set the input variables\n",
    "married = 1\n",
    "dependents = 0\n",
    "education = 1\n",
    "self_employed = 0\n",
    "applicantincome = 9000\n",
    "coapplicantincome = 2000\n",
    "loanamount = 275\n",
    "loan_amount_term = 360\n",
    "credit_history = 1\n",
    "property_area = 2"
   ]
  },
  {
   "cell_type": "code",
   "execution_count": null,
   "metadata": {},
   "outputs": [],
   "source": [
    "#  load the input data into a dataframe\n",
    "forminput = pd.DataFrame()\n",
    "forminput['Married']=[married]\n",
    "forminput['Dependents']=[dependents]\n",
    "forminput['Education']=[education]\n",
    "forminput['Self_Employed']=[self_employed]\n",
    "forminput['ApplicantIncome']=[applicantincome]\n",
    "forminput['CoapplicantIncome']=[coapplicantincome]\n",
    "forminput['LoanAmount']=[loanamount]\n",
    "forminput['Loan_Amount_Term']=[loan_amount_term]\n",
    "forminput['Credit_History']=[credit_history]\n",
    "forminput['Property_Area']=[property_area]"
   ]
  },
  {
   "cell_type": "code",
   "execution_count": null,
   "metadata": {},
   "outputs": [],
   "source": [
    "# checkout the dataframe\n",
    "forminput"
   ]
  },
  {
   "cell_type": "code",
   "execution_count": null,
   "metadata": {},
   "outputs": [],
   "source": [
    "#scale the input \n",
    "forminput_scaler = StandardScaler().fit(forminput)\n",
    "forminput_scaled = forminput_scaler.transform(forminput)"
   ]
  },
  {
   "cell_type": "code",
   "execution_count": null,
   "metadata": {},
   "outputs": [],
   "source": [
    "# run the model on the input\n",
    "predic = model.predict_classes(forminput_scaled)\n",
    "predic[0]"
   ]
  }
 ],
 "metadata": {
  "kernelspec": {
   "display_name": "Python 3",
   "language": "python",
   "name": "python3"
  },
  "language_info": {
   "codemirror_mode": {
    "name": "ipython",
    "version": 3
   },
   "file_extension": ".py",
   "mimetype": "text/x-python",
   "name": "python",
   "nbconvert_exporter": "python",
   "pygments_lexer": "ipython3",
   "version": "3.6.2"
  }
 },
 "nbformat": 4,
 "nbformat_minor": 2
}
